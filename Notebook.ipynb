{
 "cells": [
  {
   "cell_type": "markdown",
   "metadata": {},
   "source": [
    "# Introdução"
   ]
  },
  {
   "cell_type": "markdown",
   "metadata": {},
   "source": [
    "## Importações"
   ]
  },
  {
   "cell_type": "code",
   "execution_count": 1,
   "metadata": {},
   "outputs": [],
   "source": [
    "import glob\n",
    "import os\n",
    "\n",
    "import polars as pl"
   ]
  },
  {
   "cell_type": "markdown",
   "metadata": {},
   "source": [
    "## Variáveis globais"
   ]
  },
  {
   "cell_type": "code",
   "execution_count": 2,
   "metadata": {},
   "outputs": [],
   "source": [
    "DATASET_DIRECTORY = \"./CICIoT2023/\""
   ]
  },
  {
   "cell_type": "markdown",
   "metadata": {},
   "source": [
    "## Funções Auxiliares"
   ]
  },
  {
   "cell_type": "code",
   "execution_count": 3,
   "metadata": {},
   "outputs": [],
   "source": [
    "def sample_rows(\n",
    "    group_by: pl.dataframe.group_by.GroupBy, percentage: float\n",
    ") -> pl.DataFrame:\n",
    "    dfs = []\n",
    "    for _, df in group_by:\n",
    "        if len(df) * percentage <= 1:\n",
    "            dfs.append(df.sample(n=1))\n",
    "            continue\n",
    "        dfs.append(df.sample(fraction=percentage))\n",
    "\n",
    "    return pl.concat(dfs)\n",
    "\n",
    "\n",
    "def generate_dataframe(file_list: list, percentage: float) -> pl.DataFrame:\n",
    "    dfs = []\n",
    "    for file in file_list:\n",
    "        df = pl.read_csv(file)\n",
    "        dfs.append(\n",
    "            sample_rows(\n",
    "                group_by=df.group_by([\"label\"], maintain_order=True),\n",
    "                percentage=percentage,\n",
    "            )\n",
    "        )\n",
    "    return pl.concat(dfs)"
   ]
  },
  {
   "cell_type": "markdown",
   "metadata": {},
   "source": [
    "# Criando um dataset menor"
   ]
  },
  {
   "cell_type": "code",
   "execution_count": 4,
   "metadata": {},
   "outputs": [],
   "source": [
    "file_dir = \"./data/\"\n",
    "if not os.path.exists(file_dir):\n",
    "    os.makedirs(file_dir)\n",
    "\n",
    "df_sets = sorted(glob.glob(os.path.join(DATASET_DIRECTORY, \"*.csv\")))"
   ]
  },
  {
   "cell_type": "code",
   "execution_count": 5,
   "metadata": {},
   "outputs": [],
   "source": [
    "generate_dataframe(file_list=df_sets, percentage=0.001).write_csv(\n",
    "    file=\"./data/dataset_dev.csv\"\n",
    ")"
   ]
  },
  {
   "cell_type": "code",
   "execution_count": 6,
   "metadata": {},
   "outputs": [],
   "source": [
    "generate_dataframe(file_list=df_sets, percentage=0.01).write_csv(\n",
    "    file=\"./data/dataset_one_percent.csv\"\n",
    ")"
   ]
  },
  {
   "cell_type": "code",
   "execution_count": 7,
   "metadata": {},
   "outputs": [],
   "source": [
    "generate_dataframe(file_list=df_sets, percentage=0.1).write_csv(\n",
    "    file=\"./data/dataset_ten_percent.csv\"\n",
    ")"
   ]
  }
 ],
 "metadata": {
  "kernelspec": {
   "display_name": "Python 3",
   "language": "python",
   "name": "python3"
  },
  "language_info": {
   "codemirror_mode": {
    "name": "ipython",
    "version": 3
   },
   "file_extension": ".py",
   "mimetype": "text/x-python",
   "name": "python",
   "nbconvert_exporter": "python",
   "pygments_lexer": "ipython3",
   "version": "3.10.12"
  }
 },
 "nbformat": 4,
 "nbformat_minor": 2
}
