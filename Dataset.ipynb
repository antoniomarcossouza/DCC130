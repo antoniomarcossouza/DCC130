{
 "cells": [
  {
   "cell_type": "markdown",
   "metadata": {},
   "source": [
    "# Criação de um dataset menor"
   ]
  },
  {
   "cell_type": "markdown",
   "metadata": {},
   "source": [
    "## Importações"
   ]
  },
  {
   "cell_type": "code",
   "execution_count": null,
   "metadata": {},
   "outputs": [],
   "source": [
    "import glob\n",
    "import os\n",
    "\n",
    "import pandas as pd"
   ]
  },
  {
   "cell_type": "markdown",
   "metadata": {},
   "source": [
    "## Leitura dos datasets"
   ]
  },
  {
   "cell_type": "code",
   "execution_count": null,
   "metadata": {},
   "outputs": [],
   "source": [
    "DATASET_DIRECTORY = \"./CICIoT2023/\""
   ]
  },
  {
   "cell_type": "code",
   "execution_count": null,
   "metadata": {},
   "outputs": [],
   "source": [
    "def sample_rows(\n",
    "    df: pd.core.frame.DataFrame, percent_rows: float\n",
    ") -> pd.core.frame.DataFrame:\n",
    "    dfs = []\n",
    "    for label, df in df.groupby(\"label\"):\n",
    "        dfs.append(df.sample(frac=percent_rows))\n",
    "\n",
    "    return pd.concat(dfs, ignore_index=True).sample(frac=1)\n",
    "\n",
    "\n",
    "def load_data(file_list: list, percentage: float) -> pd.core.frame.DataFrame:\n",
    "    dataframes = []\n",
    "    for file in file_list:\n",
    "        file_path = os.path.join(file)\n",
    "        df = pd.read_csv(file_path)\n",
    "        dataframes.append(sample_rows(df=df, percent_rows=percentage))\n",
    "    return pd.concat(dataframes)\n",
    "\n",
    "\n",
    "df_sets = sorted(glob.glob(os.path.join(DATASET_DIRECTORY, \"*.csv\")))"
   ]
  },
  {
   "cell_type": "code",
   "execution_count": null,
   "metadata": {},
   "outputs": [],
   "source": [
    "file_dir = \"./data/\"\n",
    "if not os.path.exists(file_dir):\n",
    "    os.makedirs(file_dir)"
   ]
  },
  {
   "cell_type": "markdown",
   "metadata": {},
   "source": [
    "## Geração dos datasets menores"
   ]
  },
  {
   "cell_type": "code",
   "execution_count": null,
   "metadata": {},
   "outputs": [],
   "source": [
    "dataset_dev = load_data(file_list=df_sets, percentage=0.001)\n",
    "dataset_dev.to_csv(\"./data/dataset_dev.csv\", index=False)"
   ]
  },
  {
   "cell_type": "code",
   "execution_count": null,
   "metadata": {},
   "outputs": [],
   "source": [
    "dataset_one_percent = load_data(file_list=df_sets, percentage=0.01)\n",
    "dataset_one_percent.to_csv(\"./data/dataset_one_percent.csv\", index=False)"
   ]
  },
  {
   "cell_type": "code",
   "execution_count": null,
   "metadata": {},
   "outputs": [],
   "source": [
    "dataset_ten_percent = load_data(file_list=df_sets, percentage=0.1)\n",
    "dataset_ten_percent.to_csv(\"./data/dataset_ten_percent.csv\", index=False)"
   ]
  }
 ],
 "metadata": {
  "kernelspec": {
   "display_name": "Python 3",
   "language": "python",
   "name": "python3"
  },
  "language_info": {
   "codemirror_mode": {
    "name": "ipython",
    "version": 3
   },
   "file_extension": ".py",
   "mimetype": "text/x-python",
   "name": "python",
   "nbconvert_exporter": "python",
   "pygments_lexer": "ipython3",
   "version": "3.10.12"
  }
 },
 "nbformat": 4,
 "nbformat_minor": 2
}
