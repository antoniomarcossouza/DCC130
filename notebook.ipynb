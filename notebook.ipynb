{
 "cells": [
  {
   "cell_type": "code",
   "execution_count": 2,
   "metadata": {},
   "outputs": [],
   "source": [
    "import polars as pl"
   ]
  },
  {
   "cell_type": "code",
   "execution_count": 5,
   "metadata": {},
   "outputs": [],
   "source": [
    "df = pl.read_csv(\"./data/*.csv\")"
   ]
  },
  {
   "cell_type": "code",
   "execution_count": 13,
   "metadata": {},
   "outputs": [
    {
     "data": {
      "text/html": [
       "<div><style>\n",
       ".dataframe > thead > tr,\n",
       ".dataframe > tbody > tr {\n",
       "  text-align: right;\n",
       "  white-space: pre-wrap;\n",
       "}\n",
       "</style>\n",
       "<small>shape: (3, 47)</small><table border=\"1\" class=\"dataframe\"><thead><tr><th>flow_duration</th><th>Header_Length</th><th>Protocol Type</th><th>Duration</th><th>Rate</th><th>Srate</th><th>Drate</th><th>fin_flag_number</th><th>syn_flag_number</th><th>rst_flag_number</th><th>psh_flag_number</th><th>ack_flag_number</th><th>ece_flag_number</th><th>cwr_flag_number</th><th>ack_count</th><th>syn_count</th><th>fin_count</th><th>urg_count</th><th>rst_count</th><th>HTTP</th><th>HTTPS</th><th>DNS</th><th>Telnet</th><th>SMTP</th><th>SSH</th><th>IRC</th><th>TCP</th><th>UDP</th><th>DHCP</th><th>ARP</th><th>ICMP</th><th>IPv</th><th>LLC</th><th>Tot sum</th><th>Min</th><th>Max</th><th>AVG</th><th>Std</th><th>Tot size</th><th>IAT</th><th>Number</th><th>Magnitue</th><th>Radius</th><th>Covariance</th><th>Variance</th><th>Weight</th><th>label</th></tr><tr><td>f64</td><td>f64</td><td>f64</td><td>f64</td><td>f64</td><td>f64</td><td>f64</td><td>f64</td><td>f64</td><td>f64</td><td>f64</td><td>f64</td><td>f64</td><td>f64</td><td>f64</td><td>f64</td><td>f64</td><td>f64</td><td>f64</td><td>f64</td><td>f64</td><td>f64</td><td>f64</td><td>f64</td><td>f64</td><td>f64</td><td>f64</td><td>f64</td><td>f64</td><td>f64</td><td>f64</td><td>f64</td><td>f64</td><td>f64</td><td>f64</td><td>f64</td><td>f64</td><td>f64</td><td>f64</td><td>f64</td><td>f64</td><td>f64</td><td>f64</td><td>f64</td><td>f64</td><td>f64</td><td>str</td></tr></thead><tbody><tr><td>125.783249</td><td>6911.4</td><td>12.6</td><td>142.9</td><td>0.744229</td><td>0.744229</td><td>0.0</td><td>0.0</td><td>0.0</td><td>0.0</td><td>0.0</td><td>0.0</td><td>0.0</td><td>0.0</td><td>0.0</td><td>0.1</td><td>0.0</td><td>22.3</td><td>44.1</td><td>0.0</td><td>0.0</td><td>0.0</td><td>0.0</td><td>0.0</td><td>0.0</td><td>0.0</td><td>0.0</td><td>1.0</td><td>0.0</td><td>0.0</td><td>0.0</td><td>1.0</td><td>1.0</td><td>734.5</td><td>97.8</td><td>230.0</td><td>145.65627</td><td>51.715242</td><td>130.6</td><td>0.020786</td><td>5.5</td><td>16.98009</td><td>73.136396</td><td>2983.469099</td><td>0.9</td><td>38.5</td><td>&quot;Recon-OSScan&quot;</td></tr><tr><td>0.0</td><td>0.0</td><td>1.0</td><td>64.0</td><td>25.194758</td><td>25.194758</td><td>0.0</td><td>0.0</td><td>0.0</td><td>0.0</td><td>0.0</td><td>0.0</td><td>0.0</td><td>0.0</td><td>0.0</td><td>0.0</td><td>0.0</td><td>0.0</td><td>0.0</td><td>0.0</td><td>0.0</td><td>0.0</td><td>0.0</td><td>0.0</td><td>0.0</td><td>0.0</td><td>0.0</td><td>0.0</td><td>0.0</td><td>0.0</td><td>1.0</td><td>1.0</td><td>1.0</td><td>441.0</td><td>42.0</td><td>42.0</td><td>42.0</td><td>0.0</td><td>42.0</td><td>8.3129e7</td><td>9.5</td><td>9.165151</td><td>0.0</td><td>0.0</td><td>0.0</td><td>141.55</td><td>&quot;DDoS-ICMP_Floo…</td></tr><tr><td>0.0</td><td>0.0</td><td>0.99</td><td>63.36</td><td>24.760992</td><td>24.760992</td><td>0.0</td><td>0.0</td><td>0.0</td><td>0.0</td><td>0.0</td><td>0.0</td><td>0.0</td><td>0.0</td><td>0.0</td><td>0.0</td><td>0.0</td><td>0.0</td><td>0.0</td><td>0.0</td><td>0.0</td><td>0.0</td><td>0.0</td><td>0.0</td><td>0.0</td><td>0.0</td><td>0.0</td><td>0.0</td><td>0.0</td><td>0.0</td><td>1.0</td><td>1.0</td><td>1.0</td><td>441.9</td><td>42.0</td><td>42.9</td><td>42.050312</td><td>0.206579</td><td>42.18</td><td>8.3125e7</td><td>9.5</td><td>9.170659</td><td>0.293509</td><td>0.862323</td><td>0.05</td><td>141.55</td><td>&quot;DDoS-ICMP_Floo…</td></tr></tbody></table></div>"
      ],
      "text/plain": [
       "shape: (3, 47)\n",
       "┌────────────┬────────────┬────────────┬──────────┬───┬────────────┬──────────┬────────┬───────────┐\n",
       "│ flow_durat ┆ Header_Len ┆ Protocol   ┆ Duration ┆ … ┆ Covariance ┆ Variance ┆ Weight ┆ label     │\n",
       "│ ion        ┆ gth        ┆ Type       ┆ ---      ┆   ┆ ---        ┆ ---      ┆ ---    ┆ ---       │\n",
       "│ ---        ┆ ---        ┆ ---        ┆ f64      ┆   ┆ f64        ┆ f64      ┆ f64    ┆ str       │\n",
       "│ f64        ┆ f64        ┆ f64        ┆          ┆   ┆            ┆          ┆        ┆           │\n",
       "╞════════════╪════════════╪════════════╪══════════╪═══╪════════════╪══════════╪════════╪═══════════╡\n",
       "│ 125.783249 ┆ 6911.4     ┆ 12.6       ┆ 142.9    ┆ … ┆ 2983.46909 ┆ 0.9      ┆ 38.5   ┆ Recon-OSS │\n",
       "│            ┆            ┆            ┆          ┆   ┆ 9          ┆          ┆        ┆ can       │\n",
       "│ 0.0        ┆ 0.0        ┆ 1.0        ┆ 64.0     ┆ … ┆ 0.0        ┆ 0.0      ┆ 141.55 ┆ DDoS-ICMP │\n",
       "│            ┆            ┆            ┆          ┆   ┆            ┆          ┆        ┆ _Flood    │\n",
       "│ 0.0        ┆ 0.0        ┆ 0.99       ┆ 63.36    ┆ … ┆ 0.862323   ┆ 0.05     ┆ 141.55 ┆ DDoS-ICMP │\n",
       "│            ┆            ┆            ┆          ┆   ┆            ┆          ┆        ┆ _Flood    │\n",
       "└────────────┴────────────┴────────────┴──────────┴───┴────────────┴──────────┴────────┴───────────┘"
      ]
     },
     "execution_count": 13,
     "metadata": {},
     "output_type": "execute_result"
    }
   ],
   "source": [
    "df.head(n=3)"
   ]
  },
  {
   "cell_type": "code",
   "execution_count": 12,
   "metadata": {},
   "outputs": [
    {
     "data": {
      "text/html": [
       "<div><style>\n",
       ".dataframe > thead > tr,\n",
       ".dataframe > tbody > tr {\n",
       "  text-align: right;\n",
       "  white-space: pre-wrap;\n",
       "}\n",
       "</style>\n",
       "<small>shape: (23, 2)</small><table border=\"1\" class=\"dataframe\"><thead><tr><th>label</th><th>len</th></tr><tr><td>str</td><td>u32</td></tr></thead><tbody><tr><td>&quot;DDoS-ICMP_Floo…</td><td>7201</td></tr><tr><td>&quot;DDoS-UDP_Flood…</td><td>5412</td></tr><tr><td>&quot;DDoS-TCP_Flood…</td><td>4490</td></tr><tr><td>&quot;DDoS-PSHACK_Fl…</td><td>4093</td></tr><tr><td>&quot;DDoS-SYN_Flood…</td><td>4059</td></tr><tr><td>&quot;DDoS-RSTFINFlo…</td><td>4051</td></tr><tr><td>&quot;DDoS-Synonymou…</td><td>3600</td></tr><tr><td>&quot;DoS-UDP_Flood&quot;</td><td>3325</td></tr><tr><td>&quot;DoS-TCP_Flood&quot;</td><td>2673</td></tr><tr><td>&quot;DoS-SYN_Flood&quot;</td><td>2025</td></tr><tr><td>&quot;BenignTraffic&quot;</td><td>1093</td></tr><tr><td>&quot;Mirai-greeth_f…</td><td>994</td></tr><tr><td>&quot;Mirai-udpplain…</td><td>889</td></tr><tr><td>&quot;Mirai-greip_fl…</td><td>767</td></tr><tr><td>&quot;DDoS-ICMP_Frag…</td><td>413</td></tr><tr><td>&quot;MITM-ArpSpoofi…</td><td>345</td></tr><tr><td>&quot;DDoS-UDP_Fragm…</td><td>278</td></tr><tr><td>&quot;DDoS-ACK_Fragm…</td><td>274</td></tr><tr><td>&quot;DNS_Spoofing&quot;</td><td>200</td></tr><tr><td>&quot;Recon-HostDisc…</td><td>169</td></tr><tr><td>&quot;Recon-OSScan&quot;</td><td>102</td></tr><tr><td>&quot;DoS-HTTP_Flood…</td><td>31</td></tr><tr><td>&quot;Recon-PortScan…</td><td>31</td></tr></tbody></table></div>"
      ],
      "text/plain": [
       "shape: (23, 2)\n",
       "┌─────────────────────┬──────┐\n",
       "│ label               ┆ len  │\n",
       "│ ---                 ┆ ---  │\n",
       "│ str                 ┆ u32  │\n",
       "╞═════════════════════╪══════╡\n",
       "│ DDoS-ICMP_Flood     ┆ 7201 │\n",
       "│ DDoS-UDP_Flood      ┆ 5412 │\n",
       "│ DDoS-TCP_Flood      ┆ 4490 │\n",
       "│ DDoS-PSHACK_Flood   ┆ 4093 │\n",
       "│ DDoS-SYN_Flood      ┆ 4059 │\n",
       "│ …                   ┆ …    │\n",
       "│ DNS_Spoofing        ┆ 200  │\n",
       "│ Recon-HostDiscovery ┆ 169  │\n",
       "│ Recon-OSScan        ┆ 102  │\n",
       "│ DoS-HTTP_Flood      ┆ 31   │\n",
       "│ Recon-PortScan      ┆ 31   │\n",
       "└─────────────────────┴──────┘"
      ]
     },
     "execution_count": 12,
     "metadata": {},
     "output_type": "execute_result"
    }
   ],
   "source": [
    "df.group_by(\"label\", maintain_order=True).len().sort(by=\"len\", descending=True)"
   ]
  }
 ],
 "metadata": {
  "kernelspec": {
   "display_name": "Python 3",
   "language": "python",
   "name": "python3"
  },
  "language_info": {
   "codemirror_mode": {
    "name": "ipython",
    "version": 3
   },
   "file_extension": ".py",
   "mimetype": "text/x-python",
   "name": "python",
   "nbconvert_exporter": "python",
   "pygments_lexer": "ipython3",
   "version": "3.10.12"
  }
 },
 "nbformat": 4,
 "nbformat_minor": 2
}
