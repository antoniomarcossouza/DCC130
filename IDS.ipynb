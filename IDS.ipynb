{
 "cells": [
  {
   "cell_type": "markdown",
   "metadata": {},
   "source": [
    "# Avaliação de modelos de classificação em um dataset de internet das coisas"
   ]
  },
  {
   "cell_type": "markdown",
   "metadata": {},
   "source": [
    "## Importações"
   ]
  },
  {
   "cell_type": "code",
   "execution_count": null,
   "metadata": {},
   "outputs": [],
   "source": [
    "import os\n",
    "import time\n",
    "\n",
    "import matplotlib.pyplot as plt\n",
    "import numpy as np\n",
    "import pandas as pd\n",
    "from sklearn.ensemble import RandomForestClassifier\n",
    "from sklearn.linear_model import LogisticRegression\n",
    "from sklearn.metrics import (\n",
    "    classification_report,\n",
    "    precision_score,\n",
    "    recall_score,\n",
    "    f1_score,\n",
    "    accuracy_score,\n",
    "    confusion_matrix,\n",
    "    ConfusionMatrixDisplay,\n",
    ")\n",
    "from sklearn.model_selection import train_test_split\n",
    "from sklearn.naive_bayes import GaussianNB\n",
    "from sklearn.neighbors import KNeighborsClassifier\n",
    "from sklearn.preprocessing import StandardScaler\n",
    "from sklearn.svm import SVC"
   ]
  },
  {
   "cell_type": "markdown",
   "metadata": {},
   "source": [
    "## Criação de um dataset menor"
   ]
  },
  {
   "cell_type": "code",
   "execution_count": null,
   "metadata": {},
   "outputs": [],
   "source": [
    "df = pd.read_csv(\"./data/dataset_dev.csv\")\n",
    "\n",
    "training_data, test_data = train_test_split(df, test_size=0.2, random_state=42)"
   ]
  },
  {
   "cell_type": "markdown",
   "metadata": {},
   "source": [
    "## Colunas X and Y"
   ]
  },
  {
   "cell_type": "markdown",
   "metadata": {},
   "source": [
    "### 33 Classes"
   ]
  },
  {
   "cell_type": "code",
   "execution_count": null,
   "metadata": {},
   "outputs": [],
   "source": [
    "X_columns = [\n",
    "    \"flow_duration\",\n",
    "    \"Header_Length\",\n",
    "    \"Protocol Type\",\n",
    "    \"Duration\",\n",
    "    \"Rate\",\n",
    "    \"Srate\",\n",
    "    \"Drate\",\n",
    "    \"fin_flag_number\",\n",
    "    \"syn_flag_number\",\n",
    "    \"rst_flag_number\",\n",
    "    \"psh_flag_number\",\n",
    "    \"ack_flag_number\",\n",
    "    \"ece_flag_number\",\n",
    "    \"cwr_flag_number\",\n",
    "    \"ack_count\",\n",
    "    \"syn_count\",\n",
    "    \"fin_count\",\n",
    "    \"urg_count\",\n",
    "    \"rst_count\",\n",
    "    \"HTTP\",\n",
    "    \"HTTPS\",\n",
    "    \"DNS\",\n",
    "    \"Telnet\",\n",
    "    \"SMTP\",\n",
    "    \"SSH\",\n",
    "    \"IRC\",\n",
    "    \"TCP\",\n",
    "    \"UDP\",\n",
    "    \"DHCP\",\n",
    "    \"ARP\",\n",
    "    \"ICMP\",\n",
    "    \"IPv\",\n",
    "    \"LLC\",\n",
    "    \"Tot sum\",\n",
    "    \"Min\",\n",
    "    \"Max\",\n",
    "    \"AVG\",\n",
    "    \"Std\",\n",
    "    \"Tot size\",\n",
    "    \"IAT\",\n",
    "    \"Number\",\n",
    "    \"Magnitue\",\n",
    "    \"Radius\",\n",
    "    \"Covariance\",\n",
    "    \"Variance\",\n",
    "    \"Weight\",\n",
    "]\n",
    "y_column = \"label\""
   ]
  },
  {
   "cell_type": "markdown",
   "metadata": {},
   "source": [
    "### 8 Classes"
   ]
  },
  {
   "cell_type": "code",
   "execution_count": null,
   "metadata": {},
   "outputs": [],
   "source": [
    "eight_classes = {}\n",
    "\n",
    "eight_classes[\"BenignTraffic\"] = \"Benign\"\n",
    "\n",
    "eight_classes[\"DDoS-RSTFINFlood\"] = \"DDoS\"\n",
    "eight_classes[\"DDoS-PSHACK_Flood\"] = \"DDoS\"\n",
    "eight_classes[\"DDoS-SYN_Flood\"] = \"DDoS\"\n",
    "eight_classes[\"DDoS-UDP_Flood\"] = \"DDoS\"\n",
    "eight_classes[\"DDoS-TCP_Flood\"] = \"DDoS\"\n",
    "eight_classes[\"DDoS-ICMP_Flood\"] = \"DDoS\"\n",
    "eight_classes[\"DDoS-SynonymousIP_Flood\"] = \"DDoS\"\n",
    "eight_classes[\"DDoS-ACK_Fragmentation\"] = \"DDoS\"\n",
    "eight_classes[\"DDoS-UDP_Fragmentation\"] = \"DDoS\"\n",
    "eight_classes[\"DDoS-ICMP_Fragmentation\"] = \"DDoS\"\n",
    "eight_classes[\"DDoS-SlowLoris\"] = \"DDoS\"\n",
    "eight_classes[\"DDoS-HTTP_Flood\"] = \"DDoS\"\n",
    "\n",
    "eight_classes[\"DoS-UDP_Flood\"] = \"DoS\"\n",
    "eight_classes[\"DoS-SYN_Flood\"] = \"DoS\"\n",
    "eight_classes[\"DoS-TCP_Flood\"] = \"DoS\"\n",
    "eight_classes[\"DoS-HTTP_Flood\"] = \"DoS\"\n",
    "\n",
    "eight_classes[\"Mirai-greeth_flood\"] = \"Mirai\"\n",
    "eight_classes[\"Mirai-greip_flood\"] = \"Mirai\"\n",
    "eight_classes[\"Mirai-udpplain\"] = \"Mirai\"\n",
    "\n",
    "eight_classes[\"Recon-PingSweep\"] = \"Recon\"\n",
    "eight_classes[\"Recon-OSScan\"] = \"Recon\"\n",
    "eight_classes[\"Recon-PortScan\"] = \"Recon\"\n",
    "eight_classes[\"VulnerabilityScan\"] = \"Recon\"\n",
    "eight_classes[\"Recon-HostDiscovery\"] = \"Recon\"\n",
    "\n",
    "eight_classes[\"DNS_Spoofing\"] = \"Spoofing\"\n",
    "eight_classes[\"MITM-ArpSpoofing\"] = \"Spoofing\"\n",
    "\n",
    "eight_classes[\"BrowserHijacking\"] = \"Web\"\n",
    "eight_classes[\"Backdoor_Malware\"] = \"Web\"\n",
    "eight_classes[\"XSS\"] = \"Web\"\n",
    "eight_classes[\"Uploading_Attack\"] = \"Web\"\n",
    "eight_classes[\"SqlInjection\"] = \"Web\"\n",
    "eight_classes[\"CommandInjection\"] = \"Web\"\n",
    "\n",
    "eight_classes[\"DictionaryBruteForce\"] = \"BruteForce\""
   ]
  },
  {
   "cell_type": "code",
   "execution_count": null,
   "metadata": {},
   "outputs": [],
   "source": [
    "training_data[y_column] = [eight_classes[c] for c in training_data[y_column]]\n",
    "test_data[y_column] = [eight_classes[c] for c in test_data[y_column]]"
   ]
  },
  {
   "cell_type": "markdown",
   "metadata": {},
   "source": [
    "### Classes"
   ]
  },
  {
   "cell_type": "code",
   "execution_count": null,
   "metadata": {},
   "outputs": [],
   "source": [
    "training_data.groupby('label').size()"
   ]
  },
  {
   "cell_type": "markdown",
   "metadata": {},
   "source": [
    "### Separando as colunas"
   ]
  },
  {
   "cell_type": "code",
   "execution_count": null,
   "metadata": {},
   "outputs": [],
   "source": [
    "X_train = training_data[X_columns]\n",
    "y_train = training_data[y_column]\n",
    "X_test = test_data[X_columns]\n",
    "y_test = test_data[y_column]"
   ]
  },
  {
   "cell_type": "code",
   "execution_count": null,
   "metadata": {},
   "outputs": [],
   "source": [
    "from imblearn.over_sampling import RandomOverSampler\n",
    "from imblearn.under_sampling import RandomUnderSampler\n",
    "\n",
    "ros = RandomOverSampler(random_state=42)\n",
    "rus = RandomUnderSampler(random_state=42)\n",
    "\n",
    "X_resampled, y_resampled = ros.fit_resample(X_train, y_train)"
   ]
  },
  {
   "cell_type": "markdown",
   "metadata": {},
   "source": [
    "## Scaling"
   ]
  },
  {
   "cell_type": "code",
   "execution_count": null,
   "metadata": {},
   "outputs": [],
   "source": [
    "scaler = StandardScaler()\n",
    "X_train_scaled = scaler.fit_transform(X_resampled)\n",
    "X_test_scaled = scaler.transform(X_test)"
   ]
  },
  {
   "cell_type": "markdown",
   "metadata": {},
   "source": [
    "## Modelos"
   ]
  },
  {
   "cell_type": "markdown",
   "metadata": {},
   "source": [
    "### Funções"
   ]
  },
  {
   "cell_type": "code",
   "execution_count": null,
   "metadata": {},
   "outputs": [],
   "source": [
    "def save_results(results: dict):\n",
    "    df = pd.DataFrame(results)\n",
    "\n",
    "    file_path = f\"./results.csv\"\n",
    "    file_dir = os.path.dirname(file_path)\n",
    "\n",
    "    if not os.path.exists(file_dir):\n",
    "        os.makedirs(file_dir)\n",
    "\n",
    "    match os.path.isfile(file_path):\n",
    "        case True:\n",
    "            df.to_csv(file_path, mode=\"a\", index=False, header=False)\n",
    "        case False:\n",
    "            df.to_csv(file_path, index=False)\n",
    "\n",
    "\n",
    "def evaluate_model(model, X_train, y_train, X_test, y_test):\n",
    "    start_training = time.time()\n",
    "    model.fit(X_train, y_train)\n",
    "    end_training = time.time()\n",
    "\n",
    "    start_testing = time.time()\n",
    "    y_pred = model.predict(X_test)\n",
    "    end_testing = time.time()\n",
    "\n",
    "    plt.figure(figsize=(8, 4), dpi=250)\n",
    "    ConfusionMatrixDisplay(\n",
    "        np.round(\n",
    "            confusion_matrix(y_test, y_pred, labels=y_test.unique(), normalize=\"true\"),\n",
    "            2,\n",
    "        ),\n",
    "        display_labels=y_test.unique(),\n",
    "    ).plot()\n",
    "    plt.xticks(rotation=90)\n",
    "\n",
    "    print(classification_report(y_test, y_pred, target_names=np.unique(y_pred)))\n",
    "\n",
    "    accuracy = accuracy_score(y_test, y_pred)\n",
    "    precision = precision_score(y_test, y_pred, average=\"macro\")\n",
    "    recall = recall_score(y_test, y_pred, average=\"macro\")\n",
    "    f1 = f1_score(y_test, y_pred, average=\"macro\")\n",
    "\n",
    "    save_results(\n",
    "        [\n",
    "            {\n",
    "                \"model\": type(model).__name__,\n",
    "                \"accuracy\": accuracy,\n",
    "                \"precision\": precision,\n",
    "                \"recall\": recall,\n",
    "                \"f1\": f1,\n",
    "                \"train_num_rows\": len(X_train),\n",
    "                \"test_num_rows\": len(X_test),\n",
    "                \"duration_training\": float(f\"{end_training - start_training:.4f}\"),\n",
    "                \"duration_testing\": float(f\"{end_testing - start_testing:.4f}\"),\n",
    "            }\n",
    "        ]\n",
    "    )"
   ]
  },
  {
   "cell_type": "markdown",
   "metadata": {},
   "source": [
    "### Avaliação"
   ]
  },
  {
   "cell_type": "code",
   "execution_count": null,
   "metadata": {},
   "outputs": [],
   "source": [
    "k_nearest_neighbors = KNeighborsClassifier()\n",
    "support_vector_classification = SVC()\n",
    "logistic_regression = LogisticRegression(n_jobs=-1, max_iter=10000)\n",
    "gaussian_naive_bayes = GaussianNB()\n",
    "random_forest = RandomForestClassifier()"
   ]
  },
  {
   "cell_type": "code",
   "execution_count": null,
   "metadata": {},
   "outputs": [],
   "source": [
    "evaluate_model(k_nearest_neighbors, X_train_scaled, y_resampled, X_test_scaled, y_test)"
   ]
  },
  {
   "cell_type": "code",
   "execution_count": null,
   "metadata": {},
   "outputs": [],
   "source": [
    "evaluate_model(support_vector_classification, X_train_scaled, y_resampled, X_test_scaled, y_test)"
   ]
  },
  {
   "cell_type": "code",
   "execution_count": null,
   "metadata": {},
   "outputs": [],
   "source": [
    "evaluate_model(logistic_regression, X_train_scaled, y_resampled, X_test_scaled, y_test)"
   ]
  },
  {
   "cell_type": "code",
   "execution_count": null,
   "metadata": {},
   "outputs": [],
   "source": [
    "evaluate_model(gaussian_naive_bayes, X_train_scaled, y_resampled, X_test_scaled, y_test)"
   ]
  },
  {
   "cell_type": "code",
   "execution_count": null,
   "metadata": {},
   "outputs": [],
   "source": [
    "evaluate_model(random_forest, X_train_scaled, y_resampled, X_test_scaled, y_test)"
   ]
  }
 ],
 "metadata": {
  "kernelspec": {
   "display_name": "Python 3",
   "language": "python",
   "name": "python3"
  },
  "language_info": {
   "codemirror_mode": {
    "name": "ipython",
    "version": 3
   },
   "file_extension": ".py",
   "mimetype": "text/x-python",
   "name": "python",
   "nbconvert_exporter": "python",
   "pygments_lexer": "ipython3",
   "version": "3.10.12"
  }
 },
 "nbformat": 4,
 "nbformat_minor": 2
}
